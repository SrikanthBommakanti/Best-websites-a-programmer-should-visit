{
  "nbformat": 4,
  "nbformat_minor": 0,
  "metadata": {
    "colab": {
      "provenance": [],
      "authorship_tag": "ABX9TyPsZVxEiUOuJompdL7q/t2z",
      "include_colab_link": true
    },
    "kernelspec": {
      "name": "python3",
      "display_name": "Python 3"
    },
    "language_info": {
      "name": "python"
    }
  },
  "cells": [
    {
      "cell_type": "markdown",
      "metadata": {
        "id": "view-in-github",
        "colab_type": "text"
      },
      "source": [
        "<a href=\"https://colab.research.google.com/github/SrikanthBommakanti/Best-websites-a-programmer-should-visit/blob/master/spark_objects.ipynb\" target=\"_parent\"><img src=\"https://colab.research.google.com/assets/colab-badge.svg\" alt=\"Open In Colab\"/></a>"
      ]
    },
    {
      "cell_type": "code",
      "execution_count": 1,
      "metadata": {
        "colab": {
          "base_uri": "https://localhost:8080/"
        },
        "id": "boCY7hygXdZy",
        "outputId": "e927cf95-bfe1-453c-8bd8-834780c11ea6"
      },
      "outputs": [
        {
          "output_type": "stream",
          "name": "stdout",
          "text": [
            "\u001b[2K     \u001b[90m━━━━━━━━━━━━━━━━━━━━━━━━━━━━━━━━━━━━━━━━\u001b[0m \u001b[32m317.0/317.0 MB\u001b[0m \u001b[31m4.1 MB/s\u001b[0m eta \u001b[36m0:00:00\u001b[0m\n",
            "\u001b[?25h  Preparing metadata (setup.py) ... \u001b[?25l\u001b[?25hdone\n",
            "  Building wheel for pyspark (setup.py) ... \u001b[?25l\u001b[?25hdone\n"
          ]
        }
      ],
      "source": [
        "!pip -q install pyspark"
      ]
    },
    {
      "cell_type": "code",
      "source": [
        "from pyspark.sql import Column, DataFrame, functions as F, Row, SparkSession"
      ],
      "metadata": {
        "id": "5zyy4fWIXkN1"
      },
      "execution_count": 2,
      "outputs": []
    },
    {
      "cell_type": "code",
      "source": [
        "spark = (\n",
        "    SparkSession.builder\n",
        "        .appName(\"test\")\n",
        "            .master(\"local[*]\")\n",
        "                .getOrCreate()\n",
        ")"
      ],
      "metadata": {
        "id": "O-SI-SNjYKac"
      },
      "execution_count": 3,
      "outputs": []
    },
    {
      "cell_type": "code",
      "source": [
        "client = Row(\n",
        "    id=1,\n",
        "    name=\"Srikanth\",\n",
        "    email=\"srikanth.b@mail.com\"\n",
        ")\n",
        "\n",
        "print(\"1. Row.asDict() Output:\", client.asDict())\n",
        "print(\"2. Row.asDict() To Test:\", \"assert is true:\", client.asDict() == {\"id\": 1, \"name\": \"Srikanth\", \"email\": \"srikanth.b@mail.com\"})\n",
        "print(\"3. Getting Row attributes: Row['att']:\", client[\"name\"])\n",
        "print(\"4. Getting Row attributes alternatively: Row.att:\", client.email)\n",
        "print(\"5. Counting a value occurrence in a Row: Row.count('value'):\", client.count(\"Srikanth\"))\n",
        "print(\"6. Counting a value occurrence in a Row to test: Row.count('value')\", \"assert is zero:\", client.count(\"Srikant\"))\n",
        "print(\"7. Index of a value in a Row: Row.index('value'):\", client.index(1))"
      ],
      "metadata": {
        "colab": {
          "base_uri": "https://localhost:8080/"
        },
        "id": "ZrWnBM2NYQlr",
        "outputId": "5fd18927-fe89-4d22-8557-83361a1f304a"
      },
      "execution_count": 8,
      "outputs": [
        {
          "output_type": "stream",
          "name": "stdout",
          "text": [
            "1. Row.asDict() Output: {'id': 1, 'name': 'Srikanth', 'email': 'srikanth.b@mail.com'}\n",
            "2. Row.asDict() To Test: assert is true: True\n",
            "3. Getting Row attributes: Row['att']: Srikanth\n",
            "4. Getting Row attributes alternatively: Row.att: srikanth.b@mail.com\n",
            "5. Counting a value occurrence in a Row: Row.count('value'): 1\n",
            "6. Counting a value occurrence in a Row to test: Row.count('value') assert is zero: 0\n",
            "7. Index of a value in a Row: Row.index('value'): 0\n"
          ]
        }
      ]
    },
    {
      "cell_type": "code",
      "source": [
        "client2 = Row(\n",
        "    id=2,\n",
        "    name=\"Venkat\",\n",
        "    email=\"John_test@mail.com\"\n",
        ")\n",
        "\n",
        "# clients = Column([client, client2]) # Doesn't work this way\n",
        "\n",
        "# clients = DataFrame([client, client2]) # Neither this\n",
        "\n",
        "clients = spark.createDataFrame([client, client2]) # Bingo!\n",
        "clients.show()"
      ],
      "metadata": {
        "colab": {
          "base_uri": "https://localhost:8080/"
        },
        "id": "udxO1KpYZNF8",
        "outputId": "38295457-0ab7-4b3c-e40f-8790648bb864"
      },
      "execution_count": 10,
      "outputs": [
        {
          "output_type": "stream",
          "name": "stdout",
          "text": [
            "+---+--------+-------------------+\n",
            "| id|    name|              email|\n",
            "+---+--------+-------------------+\n",
            "|  1|Srikanth|srikanth.b@mail.com|\n",
            "|  2|  Venkat| John_test@mail.com|\n",
            "+---+--------+-------------------+\n",
            "\n"
          ]
        }
      ]
    },
    {
      "cell_type": "code",
      "source": [
        "clients_grouped = (\n",
        "    clients\n",
        "        .withColumn(\"seller\", F.lit(\"Shop\"))\n",
        "        .groupBy(\"seller\")\n",
        ")\n",
        "\n",
        "(\n",
        "clients_grouped\n",
        "    .agg(F.count(\"id\").alias(\"clients\"))\n",
        "    .show()\n",
        ")"
      ],
      "metadata": {
        "colab": {
          "base_uri": "https://localhost:8080/"
        },
        "id": "34zDBNeSZiIC",
        "outputId": "1312ae7e-9697-4ac3-a234-ee5e10360b43"
      },
      "execution_count": 11,
      "outputs": [
        {
          "output_type": "stream",
          "name": "stdout",
          "text": [
            "+------+-------+\n",
            "|seller|clients|\n",
            "+------+-------+\n",
            "|  Shop|      2|\n",
            "+------+-------+\n",
            "\n"
          ]
        }
      ]
    },
    {
      "cell_type": "code",
      "source": [
        "for client in clients.collect():\n",
        "    print(\"client(raw format):\")\n",
        "    print(client)\n",
        "    print(\"client name:\")\n",
        "    print(client[\"name\"])\n",
        "    print(\"client email:\")\n",
        "    print(client[\"email\"])\n",
        "    print(\"The unusual: get the dict:\")\n",
        "    print(client.asDict())"
      ],
      "metadata": {
        "colab": {
          "base_uri": "https://localhost:8080/"
        },
        "id": "Js72DiLKZ17d",
        "outputId": "58dccac7-71cb-471c-99b1-20a281c1c1bb"
      },
      "execution_count": 12,
      "outputs": [
        {
          "output_type": "stream",
          "name": "stdout",
          "text": [
            "client(raw format):\n",
            "Row(id=1, name='Srikanth', email='srikanth.b@mail.com')\n",
            "client name:\n",
            "Srikanth\n",
            "client email:\n",
            "srikanth.b@mail.com\n",
            "The unusual: get the dict:\n",
            "{'id': 1, 'name': 'Srikanth', 'email': 'srikanth.b@mail.com'}\n",
            "client(raw format):\n",
            "Row(id=2, name='Venkat', email='John_test@mail.com')\n",
            "client name:\n",
            "Venkat\n",
            "client email:\n",
            "John_test@mail.com\n",
            "The unusual: get the dict:\n",
            "{'id': 2, 'name': 'Venkat', 'email': 'John_test@mail.com'}\n"
          ]
        }
      ]
    }
  ]
}